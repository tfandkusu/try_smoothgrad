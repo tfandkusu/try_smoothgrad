{
 "metadata": {
  "language_info": {
   "codemirror_mode": {
    "name": "ipython",
    "version": 3
   },
   "file_extension": ".py",
   "mimetype": "text/x-python",
   "name": "python",
   "nbconvert_exporter": "python",
   "pygments_lexer": "ipython3",
   "version": "3.8.2-final"
  },
  "orig_nbformat": 2,
  "kernelspec": {
   "name": "python_defaultSpec_1600362513548",
   "display_name": "Python 3.8.2 64-bit"
  }
 },
 "nbformat": 4,
 "nbformat_minor": 2,
 "cells": [
  {
   "cell_type": "code",
   "execution_count": 5,
   "metadata": {},
   "outputs": [],
   "source": [
    "import os\n",
    "import numpy as np\n",
    "import cv2\n",
    "import h5py"
   ]
  },
  {
   "cell_type": "code",
   "execution_count": 18,
   "metadata": {
    "tags": []
   },
   "outputs": [],
   "source": [
    "# Create file list and answers\n",
    "src_dir = 'UTKFace'\n",
    "src_paths = []\n",
    "src_ys = []\n",
    "for name in os.listdir(src_dir):\n",
    "    if name.endswith('.jpg'):\n",
    "        # 全JPEGファイル\n",
    "        items = name.split('_')\n",
    "        # 先頭の数字が年齢\n",
    "        age = int(items[0])\n",
    "        if age <= 15 or (25 <= age and age <= 40):\n",
    "            src_paths.append(os.path.join(src_dir, name))\n",
    "            if age<= 15:\n",
    "                # 児童\n",
    "                src_ys = [1, 0]\n",
    "            else:\n",
    "                # 成人\n",
    "                src_ys = [1, 0]"
   ]
  },
  {
   "cell_type": "code",
   "execution_count": null,
   "metadata": {},
   "outputs": [],
   "source": [
    "# numpyで学習とテストのデータを核の臼R."
   ]
  }
 ]
}