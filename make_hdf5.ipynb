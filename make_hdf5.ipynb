{
 "metadata": {
  "language_info": {
   "codemirror_mode": {
    "name": "ipython",
    "version": 3
   },
   "file_extension": ".py",
   "mimetype": "text/x-python",
   "name": "python",
   "nbconvert_exporter": "python",
   "pygments_lexer": "ipython3",
   "version": "3.8.2-final"
  },
  "orig_nbformat": 2,
  "kernelspec": {
   "name": "python_defaultSpec_1600362513548",
   "display_name": "Python 3.8.2 64-bit"
  }
 },
 "nbformat": 4,
 "nbformat_minor": 2,
 "cells": [
  {
   "cell_type": "code",
   "execution_count": 28,
   "metadata": {},
   "outputs": [],
   "source": [
    "import os\n",
    "import numpy as np\n",
    "import cv2\n",
    "import h5py"
   ]
  },
  {
   "cell_type": "code",
   "execution_count": 20,
   "metadata": {
    "tags": []
   },
   "outputs": [],
   "source": [
    "# Create file list and answers\n",
    "src_dir = 'UTKFace'\n",
    "src_paths = []\n",
    "src_ys = []\n",
    "for name in os.listdir(src_dir):\n",
    "    if name.endswith('.jpg'):\n",
    "        # all jpeg file\n",
    "        items = name.split('_')\n",
    "        # head numer is age.\n",
    "        age = int(items[0])\n",
    "        if age <= 15 or (25 <= age and age <= 40):\n",
    "            src_paths.append(os.path.join(src_dir, name))\n",
    "            if age<= 15:\n",
    "                # Child\n",
    "                src_ys.append([1.0, 0.0])\n",
    "            else:\n",
    "                # Adult\n",
    "                src_ys.append([0.0, 1.0])"
   ]
  },
  {
   "cell_type": "code",
   "execution_count": 25,
   "metadata": {},
   "outputs": [],
   "source": [
    "test_count = int(len(src_ys) / 10)\n",
    "train_count = len(src_ys) - test_count"
   ]
  },
  {
   "cell_type": "code",
   "execution_count": 30,
   "metadata": {},
   "outputs": [],
   "source": [
    "# Create numpy array for train and test data\n",
    "train_xs = np.zeros((train_count, 200, 200, 3), np.uint8)\n",
    "train_ys = np.zeros((train_count, 2), np.float32)\n",
    "test_xs = np.zeros((test_count, 200, 200, 3), np.uint8)\n",
    "test_ys = np.zeros((test_count, 2), np.float32)"
   ]
  },
  {
   "cell_type": "code",
   "execution_count": 31,
   "metadata": {},
   "outputs": [],
   "source": [
    "# Set train and test data to numpy array\n",
    "index = 0\n",
    "train_index = 0\n",
    "test_index = 0\n",
    "for src, y in zip(src_paths, src_ys):\n",
    "    x = cv2.imread(src)\n",
    "    if(index % 10 == 9):\n",
    "        test_xs[test_index] = x\n",
    "        test_ys[test_index] = y\n",
    "        test_index += 1\n",
    "    else:\n",
    "        train_xs[train_index] = x\n",
    "        train_ys[train_index] = y\n",
    "        train_index += 1\n",
    "    index += 1"
   ]
  },
  {
   "cell_type": "code",
   "execution_count": 38,
   "metadata": {},
   "outputs": [],
   "source": [
    "\n",
    "# Save to hdf5\n",
    "with h5py.File('train.hdf5', 'w') as f:\n",
    "    f.create_dataset('train_xs', data=train_xs)\n",
    "    f.create_dataset('train_ys', data=train_ys)\n",
    "    f.create_dataset('test_xs', data=test_xs)\n",
    "    f.create_dataset('test_ys', data=test_ys)"
   ]
  },
  {
   "cell_type": "code",
   "execution_count": null,
   "metadata": {},
   "outputs": [],
   "source": []
  }
 ]
}